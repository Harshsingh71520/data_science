{
 "cells": [
  {
   "cell_type": "code",
   "execution_count": 4,
   "id": "03f90c7b-ab82-4eab-93a4-baebdfdc559b",
   "metadata": {},
   "outputs": [
    {
     "name": "stdout",
     "output_type": "stream",
     "text": [
      " the data has been cleaned successfully\n"
     ]
    }
   ],
   "source": [
    "import json\n",
    "def clean_data(data):\n",
    "    data[\"users\"]= [user for user in data[\"users\"] if user[\"name\"].strip()]\n",
    "    for user in data[\"users\"]:\n",
    "        user[\"friends\"]: list(set(user[\"friends\"]))\n",
    "    return data\n",
    "\n",
    "data= json.load(open(\"data.json\"))\n",
    "data= clean_data(data)\n",
    "json.dump(data, open(\"cleaned_data2.json\",\"w\"), indent = 4)\n",
    "print (\" the data has been cleaned successfully\")"
   ]
  },
  {
   "cell_type": "code",
   "execution_count": null,
   "id": "e8ae8ab2-1848-4ae8-a6aa-a7817366d2ab",
   "metadata": {},
   "outputs": [],
   "source": []
  }
 ],
 "metadata": {
  "kernelspec": {
   "display_name": "Python 3 (ipykernel)",
   "language": "python",
   "name": "python3"
  },
  "language_info": {
   "codemirror_mode": {
    "name": "ipython",
    "version": 3
   },
   "file_extension": ".py",
   "mimetype": "text/x-python",
   "name": "python",
   "nbconvert_exporter": "python",
   "pygments_lexer": "ipython3",
   "version": "3.12.7"
  }
 },
 "nbformat": 4,
 "nbformat_minor": 5
}
