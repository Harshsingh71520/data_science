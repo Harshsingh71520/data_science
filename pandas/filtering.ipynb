{
 "cells": [
  {
   "cell_type": "code",
   "execution_count": 9,
   "id": "26cfe863-f381-4774-b63b-c53b4f46d541",
   "metadata": {},
   "outputs": [],
   "source": [
    "import pandas as pd\n"
   ]
  },
  {
   "cell_type": "code",
   "execution_count": 42,
   "id": "c72a688c-f15f-46b0-bd06-8855753d94c6",
   "metadata": {},
   "outputs": [
    {
     "data": {
      "text/html": [
       "<div>\n",
       "<style scoped>\n",
       "    .dataframe tbody tr th:only-of-type {\n",
       "        vertical-align: middle;\n",
       "    }\n",
       "\n",
       "    .dataframe tbody tr th {\n",
       "        vertical-align: top;\n",
       "    }\n",
       "\n",
       "    .dataframe thead th {\n",
       "        text-align: right;\n",
       "    }\n",
       "</style>\n",
       "<table border=\"1\" class=\"dataframe\">\n",
       "  <thead>\n",
       "    <tr style=\"text-align: right;\">\n",
       "      <th></th>\n",
       "      <th>ACTORS</th>\n",
       "      <th>FILMS</th>\n",
       "      <th>YEAR</th>\n",
       "      <th>GENRE</th>\n",
       "      <th>BOX OFFICE</th>\n",
       "      <th>IMDB</th>\n",
       "    </tr>\n",
       "  </thead>\n",
       "  <tbody>\n",
       "    <tr>\n",
       "      <th>0</th>\n",
       "      <td>SRK</td>\n",
       "      <td>Pathan</td>\n",
       "      <td>2023</td>\n",
       "      <td>Action</td>\n",
       "      <td>1050</td>\n",
       "      <td>7.2</td>\n",
       "    </tr>\n",
       "    <tr>\n",
       "      <th>1</th>\n",
       "      <td>Salman</td>\n",
       "      <td>Tiger</td>\n",
       "      <td>2017</td>\n",
       "      <td>Action</td>\n",
       "      <td>565</td>\n",
       "      <td>6.0</td>\n",
       "    </tr>\n",
       "    <tr>\n",
       "      <th>2</th>\n",
       "      <td>Aamir</td>\n",
       "      <td>Dangal</td>\n",
       "      <td>2016</td>\n",
       "      <td>Biography</td>\n",
       "      <td>2024</td>\n",
       "      <td>8.4</td>\n",
       "    </tr>\n",
       "    <tr>\n",
       "      <th>3</th>\n",
       "      <td>Ranbir</td>\n",
       "      <td>Brahmastra</td>\n",
       "      <td>2022</td>\n",
       "      <td>Fantasy</td>\n",
       "      <td>431</td>\n",
       "      <td>5.6</td>\n",
       "    </tr>\n",
       "    <tr>\n",
       "      <th>4</th>\n",
       "      <td>Ranveer</td>\n",
       "      <td>Padmavat</td>\n",
       "      <td>2018</td>\n",
       "      <td>Historical</td>\n",
       "      <td>585</td>\n",
       "      <td>7.0</td>\n",
       "    </tr>\n",
       "    <tr>\n",
       "      <th>5</th>\n",
       "      <td>Ayushmaan</td>\n",
       "      <td>Andhadhun</td>\n",
       "      <td>2018</td>\n",
       "      <td>Thriller</td>\n",
       "      <td>111</td>\n",
       "      <td>8.3</td>\n",
       "    </tr>\n",
       "    <tr>\n",
       "      <th>6</th>\n",
       "      <td>Rajkumar</td>\n",
       "      <td>Stree</td>\n",
       "      <td>2018</td>\n",
       "      <td>Horror</td>\n",
       "      <td>180</td>\n",
       "      <td>7.5</td>\n",
       "    </tr>\n",
       "    <tr>\n",
       "      <th>7</th>\n",
       "      <td>Hritik</td>\n",
       "      <td>WAR</td>\n",
       "      <td>2019</td>\n",
       "      <td>Action</td>\n",
       "      <td>475</td>\n",
       "      <td>6.5</td>\n",
       "    </tr>\n",
       "    <tr>\n",
       "      <th>8</th>\n",
       "      <td>Askhay</td>\n",
       "      <td>Good</td>\n",
       "      <td>2019</td>\n",
       "      <td>Comedy</td>\n",
       "      <td>318</td>\n",
       "      <td>7.0</td>\n",
       "    </tr>\n",
       "    <tr>\n",
       "      <th>9</th>\n",
       "      <td>Kartik</td>\n",
       "      <td>Bhool</td>\n",
       "      <td>2022</td>\n",
       "      <td>Horror</td>\n",
       "      <td>266</td>\n",
       "      <td>5.9</td>\n",
       "    </tr>\n",
       "    <tr>\n",
       "      <th>10</th>\n",
       "      <td>Varun</td>\n",
       "      <td>Badrinath</td>\n",
       "      <td>2017</td>\n",
       "      <td>Romantic</td>\n",
       "      <td>201</td>\n",
       "      <td>6.1</td>\n",
       "    </tr>\n",
       "    <tr>\n",
       "      <th>11</th>\n",
       "      <td>Vicky</td>\n",
       "      <td>URI</td>\n",
       "      <td>2019</td>\n",
       "      <td>Action</td>\n",
       "      <td>342</td>\n",
       "      <td>8.2</td>\n",
       "    </tr>\n",
       "  </tbody>\n",
       "</table>\n",
       "</div>"
      ],
      "text/plain": [
       "       ACTORS       FILMS  YEAR       GENRE  BOX OFFICE  IMDB\n",
       "0         SRK      Pathan  2023      Action        1050   7.2\n",
       "1      Salman       Tiger  2017      Action         565   6.0\n",
       "2       Aamir      Dangal  2016   Biography        2024   8.4\n",
       "3      Ranbir  Brahmastra  2022     Fantasy         431   5.6\n",
       "4     Ranveer    Padmavat  2018  Historical         585   7.0\n",
       "5   Ayushmaan   Andhadhun  2018    Thriller         111   8.3\n",
       "6    Rajkumar       Stree  2018      Horror         180   7.5\n",
       "7      Hritik         WAR  2019      Action         475   6.5\n",
       "8      Askhay        Good  2019      Comedy         318   7.0\n",
       "9      Kartik       Bhool  2022      Horror         266   5.9\n",
       "10      Varun   Badrinath  2017    Romantic         201   6.1\n",
       "11      Vicky         URI  2019      Action         342   8.2"
      ]
     },
     "execution_count": 42,
     "metadata": {},
     "output_type": "execute_result"
    }
   ],
   "source": [
    "df=pd.read_csv(\"films.csv\")\n",
    "df"
   ]
  },
  {
   "cell_type": "code",
   "execution_count": 43,
   "id": "5b3107c8-5b67-4b46-9f7a-4bfcffc073cd",
   "metadata": {},
   "outputs": [
    {
     "data": {
      "text/plain": [
       "0           SRK\n",
       "1        Salman\n",
       "2         Aamir\n",
       "3        Ranbir\n",
       "4       Ranveer\n",
       "5     Ayushmaan\n",
       "6      Rajkumar\n",
       "7        Hritik\n",
       "8        Askhay\n",
       "9        Kartik\n",
       "10        Varun\n",
       "11        Vicky\n",
       "Name: ACTORS, dtype: object"
      ]
     },
     "execution_count": 43,
     "metadata": {},
     "output_type": "execute_result"
    }
   ],
   "source": [
    "df['ACTORS']\n"
   ]
  },
  {
   "cell_type": "code",
   "execution_count": 44,
   "id": "eb2717f2-7cf4-4121-973f-1aef9cf80170",
   "metadata": {},
   "outputs": [
    {
     "data": {
      "text/plain": [
       "'Ranveer'"
      ]
     },
     "execution_count": 44,
     "metadata": {},
     "output_type": "execute_result"
    }
   ],
   "source": [
    "df['ACTORS'][4]\n"
   ]
  },
  {
   "cell_type": "code",
   "execution_count": 48,
   "id": "15c7e161-95b6-4d0a-b948-c0c0f395bda2",
   "metadata": {},
   "outputs": [
    {
     "data": {
      "text/html": [
       "<div>\n",
       "<style scoped>\n",
       "    .dataframe tbody tr th:only-of-type {\n",
       "        vertical-align: middle;\n",
       "    }\n",
       "\n",
       "    .dataframe tbody tr th {\n",
       "        vertical-align: top;\n",
       "    }\n",
       "\n",
       "    .dataframe thead th {\n",
       "        text-align: right;\n",
       "    }\n",
       "</style>\n",
       "<table border=\"1\" class=\"dataframe\">\n",
       "  <thead>\n",
       "    <tr style=\"text-align: right;\">\n",
       "      <th></th>\n",
       "      <th>ACTORS</th>\n",
       "      <th>IMDB</th>\n",
       "    </tr>\n",
       "  </thead>\n",
       "  <tbody>\n",
       "    <tr>\n",
       "      <th>0</th>\n",
       "      <td>SRK</td>\n",
       "      <td>7.2</td>\n",
       "    </tr>\n",
       "    <tr>\n",
       "      <th>1</th>\n",
       "      <td>Salman</td>\n",
       "      <td>6.0</td>\n",
       "    </tr>\n",
       "    <tr>\n",
       "      <th>2</th>\n",
       "      <td>Aamir</td>\n",
       "      <td>8.4</td>\n",
       "    </tr>\n",
       "    <tr>\n",
       "      <th>3</th>\n",
       "      <td>Ranbir</td>\n",
       "      <td>5.6</td>\n",
       "    </tr>\n",
       "    <tr>\n",
       "      <th>4</th>\n",
       "      <td>Ranveer</td>\n",
       "      <td>7.0</td>\n",
       "    </tr>\n",
       "    <tr>\n",
       "      <th>5</th>\n",
       "      <td>Ayushmaan</td>\n",
       "      <td>8.3</td>\n",
       "    </tr>\n",
       "    <tr>\n",
       "      <th>6</th>\n",
       "      <td>Rajkumar</td>\n",
       "      <td>7.5</td>\n",
       "    </tr>\n",
       "    <tr>\n",
       "      <th>7</th>\n",
       "      <td>Hritik</td>\n",
       "      <td>6.5</td>\n",
       "    </tr>\n",
       "    <tr>\n",
       "      <th>8</th>\n",
       "      <td>Askhay</td>\n",
       "      <td>7.0</td>\n",
       "    </tr>\n",
       "    <tr>\n",
       "      <th>9</th>\n",
       "      <td>Kartik</td>\n",
       "      <td>5.9</td>\n",
       "    </tr>\n",
       "    <tr>\n",
       "      <th>10</th>\n",
       "      <td>Varun</td>\n",
       "      <td>6.1</td>\n",
       "    </tr>\n",
       "    <tr>\n",
       "      <th>11</th>\n",
       "      <td>Vicky</td>\n",
       "      <td>8.2</td>\n",
       "    </tr>\n",
       "  </tbody>\n",
       "</table>\n",
       "</div>"
      ],
      "text/plain": [
       "       ACTORS  IMDB\n",
       "0         SRK   7.2\n",
       "1      Salman   6.0\n",
       "2       Aamir   8.4\n",
       "3      Ranbir   5.6\n",
       "4     Ranveer   7.0\n",
       "5   Ayushmaan   8.3\n",
       "6    Rajkumar   7.5\n",
       "7      Hritik   6.5\n",
       "8      Askhay   7.0\n",
       "9      Kartik   5.9\n",
       "10      Varun   6.1\n",
       "11      Vicky   8.2"
      ]
     },
     "execution_count": 48,
     "metadata": {},
     "output_type": "execute_result"
    }
   ],
   "source": [
    "df[['ACTORS','IMDB']]\n"
   ]
  },
  {
   "cell_type": "code",
   "execution_count": 49,
   "id": "8b1cb909-e7aa-4d77-ab77-400fe55f04f4",
   "metadata": {},
   "outputs": [
    {
     "data": {
      "text/plain": [
       "ACTORS           SRK\n",
       "FILMS         Pathan\n",
       "YEAR            2023\n",
       "GENRE         Action\n",
       "BOX OFFICE      1050\n",
       "IMDB             7.2\n",
       "Name: 0, dtype: object"
      ]
     },
     "execution_count": 49,
     "metadata": {},
     "output_type": "execute_result"
    }
   ],
   "source": [
    "df.loc[0]#search by row label"
   ]
  },
  {
   "cell_type": "code",
   "execution_count": 38,
   "id": "8cb85a0d-c3d1-4520-afa2-e875d2f6e236",
   "metadata": {},
   "outputs": [
    {
     "data": {
      "text/plain": [
       "ACTORS            Ranbir\n",
       "FILMS         Brahmastra\n",
       "YEAR                2022\n",
       "GENRE            Fantasy\n",
       "BOX OFFICE           431\n",
       "IMDB                 5.6\n",
       "Name: 3, dtype: object"
      ]
     },
     "execution_count": 38,
     "metadata": {},
     "output_type": "execute_result"
    }
   ],
   "source": [
    "df.iloc[3]# search by index"
   ]
  },
  {
   "cell_type": "code",
   "execution_count": 53,
   "id": "1968e881-ffeb-4f75-b130-8129388cdf00",
   "metadata": {},
   "outputs": [
    {
     "data": {
      "text/plain": [
       "'Good'"
      ]
     },
     "execution_count": 53,
     "metadata": {},
     "output_type": "execute_result"
    }
   ],
   "source": [
    "df.loc[8,'FILMS']"
   ]
  },
  {
   "cell_type": "code",
   "execution_count": 54,
   "id": "c7ed343d-c17b-414f-b107-3b9fb6bd570e",
   "metadata": {},
   "outputs": [
    {
     "data": {
      "text/plain": [
       "'Good'"
      ]
     },
     "execution_count": 54,
     "metadata": {},
     "output_type": "execute_result"
    }
   ],
   "source": [
    "df.iloc[8,1]"
   ]
  },
  {
   "cell_type": "code",
   "execution_count": 58,
   "id": "8b8c9b30-aab4-49af-96da-06be37cd11a3",
   "metadata": {},
   "outputs": [
    {
     "data": {
      "text/html": [
       "<div>\n",
       "<style scoped>\n",
       "    .dataframe tbody tr th:only-of-type {\n",
       "        vertical-align: middle;\n",
       "    }\n",
       "\n",
       "    .dataframe tbody tr th {\n",
       "        vertical-align: top;\n",
       "    }\n",
       "\n",
       "    .dataframe thead th {\n",
       "        text-align: right;\n",
       "    }\n",
       "</style>\n",
       "<table border=\"1\" class=\"dataframe\">\n",
       "  <thead>\n",
       "    <tr style=\"text-align: right;\">\n",
       "      <th></th>\n",
       "      <th>ACTORS</th>\n",
       "      <th>IMDB</th>\n",
       "      <th>FILMS</th>\n",
       "    </tr>\n",
       "  </thead>\n",
       "  <tbody>\n",
       "    <tr>\n",
       "      <th>0</th>\n",
       "      <td>SRK</td>\n",
       "      <td>7.2</td>\n",
       "      <td>Pathan</td>\n",
       "    </tr>\n",
       "    <tr>\n",
       "      <th>1</th>\n",
       "      <td>Salman</td>\n",
       "      <td>6.0</td>\n",
       "      <td>Tiger</td>\n",
       "    </tr>\n",
       "    <tr>\n",
       "      <th>2</th>\n",
       "      <td>Aamir</td>\n",
       "      <td>8.4</td>\n",
       "      <td>Dangal</td>\n",
       "    </tr>\n",
       "    <tr>\n",
       "      <th>3</th>\n",
       "      <td>Ranbir</td>\n",
       "      <td>5.6</td>\n",
       "      <td>Brahmastra</td>\n",
       "    </tr>\n",
       "    <tr>\n",
       "      <th>4</th>\n",
       "      <td>Ranveer</td>\n",
       "      <td>7.0</td>\n",
       "      <td>Padmavat</td>\n",
       "    </tr>\n",
       "  </tbody>\n",
       "</table>\n",
       "</div>"
      ],
      "text/plain": [
       "    ACTORS  IMDB       FILMS\n",
       "0      SRK   7.2      Pathan\n",
       "1   Salman   6.0       Tiger\n",
       "2    Aamir   8.4      Dangal\n",
       "3   Ranbir   5.6  Brahmastra\n",
       "4  Ranveer   7.0    Padmavat"
      ]
     },
     "execution_count": 58,
     "metadata": {},
     "output_type": "execute_result"
    }
   ],
   "source": [
    "df.loc[0:4,[\"ACTORS\",\"IMDB\",\"FILMS\"]]"
   ]
  },
  {
   "cell_type": "code",
   "execution_count": 59,
   "id": "0b6a1c7a-f2d7-4fed-983d-3d715660f61a",
   "metadata": {},
   "outputs": [
    {
     "data": {
      "text/plain": [
       "'SRK'"
      ]
     },
     "execution_count": 59,
     "metadata": {},
     "output_type": "execute_result"
    }
   ],
   "source": [
    "df.at[0,'ACTORS']"
   ]
  },
  {
   "cell_type": "code",
   "execution_count": 60,
   "id": "c412794c-8050-471d-b6ed-b0c7e9b1a30d",
   "metadata": {},
   "outputs": [
    {
     "data": {
      "text/plain": [
       "'SRK'"
      ]
     },
     "execution_count": 60,
     "metadata": {},
     "output_type": "execute_result"
    }
   ],
   "source": [
    "df.iat[0,0]"
   ]
  },
  {
   "cell_type": "code",
   "execution_count": 67,
   "id": "817c2ab2-c119-4e6f-92e8-117dacee6bf0",
   "metadata": {},
   "outputs": [
    {
     "data": {
      "text/html": [
       "<div>\n",
       "<style scoped>\n",
       "    .dataframe tbody tr th:only-of-type {\n",
       "        vertical-align: middle;\n",
       "    }\n",
       "\n",
       "    .dataframe tbody tr th {\n",
       "        vertical-align: top;\n",
       "    }\n",
       "\n",
       "    .dataframe thead th {\n",
       "        text-align: right;\n",
       "    }\n",
       "</style>\n",
       "<table border=\"1\" class=\"dataframe\">\n",
       "  <thead>\n",
       "    <tr style=\"text-align: right;\">\n",
       "      <th></th>\n",
       "      <th>ACTORS</th>\n",
       "      <th>FILMS</th>\n",
       "      <th>YEAR</th>\n",
       "      <th>GENRE</th>\n",
       "      <th>BOX OFFICE</th>\n",
       "      <th>IMDB</th>\n",
       "    </tr>\n",
       "  </thead>\n",
       "  <tbody>\n",
       "    <tr>\n",
       "      <th>0</th>\n",
       "      <td>SRK</td>\n",
       "      <td>Pathan</td>\n",
       "      <td>2023</td>\n",
       "      <td>Action</td>\n",
       "      <td>1050</td>\n",
       "      <td>7.2</td>\n",
       "    </tr>\n",
       "    <tr>\n",
       "      <th>1</th>\n",
       "      <td>Salman</td>\n",
       "      <td>Tiger</td>\n",
       "      <td>2017</td>\n",
       "      <td>Action</td>\n",
       "      <td>565</td>\n",
       "      <td>6.0</td>\n",
       "    </tr>\n",
       "    <tr>\n",
       "      <th>2</th>\n",
       "      <td>Aamir</td>\n",
       "      <td>Dangal</td>\n",
       "      <td>2016</td>\n",
       "      <td>Biography</td>\n",
       "      <td>2024</td>\n",
       "      <td>8.4</td>\n",
       "    </tr>\n",
       "    <tr>\n",
       "      <th>3</th>\n",
       "      <td>Ranbir</td>\n",
       "      <td>Brahmastra</td>\n",
       "      <td>2022</td>\n",
       "      <td>Fantasy</td>\n",
       "      <td>431</td>\n",
       "      <td>5.6</td>\n",
       "    </tr>\n",
       "    <tr>\n",
       "      <th>4</th>\n",
       "      <td>Ranveer</td>\n",
       "      <td>Padmavat</td>\n",
       "      <td>2018</td>\n",
       "      <td>Historical</td>\n",
       "      <td>585</td>\n",
       "      <td>7.0</td>\n",
       "    </tr>\n",
       "    <tr>\n",
       "      <th>5</th>\n",
       "      <td>Ayushmaan</td>\n",
       "      <td>Andhadhun</td>\n",
       "      <td>2018</td>\n",
       "      <td>Thriller</td>\n",
       "      <td>111</td>\n",
       "      <td>8.3</td>\n",
       "    </tr>\n",
       "    <tr>\n",
       "      <th>6</th>\n",
       "      <td>Rajkumar</td>\n",
       "      <td>Stree</td>\n",
       "      <td>2018</td>\n",
       "      <td>Horror</td>\n",
       "      <td>180</td>\n",
       "      <td>7.5</td>\n",
       "    </tr>\n",
       "    <tr>\n",
       "      <th>7</th>\n",
       "      <td>Hritik</td>\n",
       "      <td>WAR</td>\n",
       "      <td>2019</td>\n",
       "      <td>Action</td>\n",
       "      <td>475</td>\n",
       "      <td>6.5</td>\n",
       "    </tr>\n",
       "    <tr>\n",
       "      <th>8</th>\n",
       "      <td>Askhay</td>\n",
       "      <td>Good</td>\n",
       "      <td>2019</td>\n",
       "      <td>Comedy</td>\n",
       "      <td>318</td>\n",
       "      <td>7.0</td>\n",
       "    </tr>\n",
       "    <tr>\n",
       "      <th>9</th>\n",
       "      <td>Kartik</td>\n",
       "      <td>Bhool</td>\n",
       "      <td>2022</td>\n",
       "      <td>Horror</td>\n",
       "      <td>266</td>\n",
       "      <td>5.9</td>\n",
       "    </tr>\n",
       "    <tr>\n",
       "      <th>10</th>\n",
       "      <td>Varun</td>\n",
       "      <td>Badrinath</td>\n",
       "      <td>2017</td>\n",
       "      <td>Romantic</td>\n",
       "      <td>201</td>\n",
       "      <td>6.1</td>\n",
       "    </tr>\n",
       "    <tr>\n",
       "      <th>11</th>\n",
       "      <td>Vicky</td>\n",
       "      <td>URI</td>\n",
       "      <td>2019</td>\n",
       "      <td>Action</td>\n",
       "      <td>342</td>\n",
       "      <td>8.2</td>\n",
       "    </tr>\n",
       "  </tbody>\n",
       "</table>\n",
       "</div>"
      ],
      "text/plain": [
       "       ACTORS       FILMS  YEAR       GENRE  BOX OFFICE  IMDB\n",
       "0         SRK      Pathan  2023      Action        1050   7.2\n",
       "1      Salman       Tiger  2017      Action         565   6.0\n",
       "2       Aamir      Dangal  2016   Biography        2024   8.4\n",
       "3      Ranbir  Brahmastra  2022     Fantasy         431   5.6\n",
       "4     Ranveer    Padmavat  2018  Historical         585   7.0\n",
       "5   Ayushmaan   Andhadhun  2018    Thriller         111   8.3\n",
       "6    Rajkumar       Stree  2018      Horror         180   7.5\n",
       "7      Hritik         WAR  2019      Action         475   6.5\n",
       "8      Askhay        Good  2019      Comedy         318   7.0\n",
       "9      Kartik       Bhool  2022      Horror         266   5.9\n",
       "10      Varun   Badrinath  2017    Romantic         201   6.1\n",
       "11      Vicky         URI  2019      Action         342   8.2"
      ]
     },
     "execution_count": 67,
     "metadata": {},
     "output_type": "execute_result"
    }
   ],
   "source": [
    "df[df['IMDB']>5]"
   ]
  },
  {
   "cell_type": "code",
   "execution_count": 68,
   "id": "e03985f5-a872-49c7-a8b7-58a3a20f39da",
   "metadata": {},
   "outputs": [
    {
     "data": {
      "text/plain": [
       "2         Aamir\n",
       "5     Ayushmaan\n",
       "11        Vicky\n",
       "Name: ACTORS, dtype: object"
      ]
     },
     "execution_count": 68,
     "metadata": {},
     "output_type": "execute_result"
    }
   ],
   "source": [
    "df[df['IMDB']>8]['ACTORS']"
   ]
  },
  {
   "cell_type": "code",
   "execution_count": 70,
   "id": "10382ae0-62a4-4e85-8c0f-93f738256b55",
   "metadata": {},
   "outputs": [
    {
     "data": {
      "text/html": [
       "<div>\n",
       "<style scoped>\n",
       "    .dataframe tbody tr th:only-of-type {\n",
       "        vertical-align: middle;\n",
       "    }\n",
       "\n",
       "    .dataframe tbody tr th {\n",
       "        vertical-align: top;\n",
       "    }\n",
       "\n",
       "    .dataframe thead th {\n",
       "        text-align: right;\n",
       "    }\n",
       "</style>\n",
       "<table border=\"1\" class=\"dataframe\">\n",
       "  <thead>\n",
       "    <tr style=\"text-align: right;\">\n",
       "      <th></th>\n",
       "      <th>ACTORS</th>\n",
       "      <th>FILMS</th>\n",
       "      <th>YEAR</th>\n",
       "      <th>GENRE</th>\n",
       "      <th>BOX OFFICE</th>\n",
       "      <th>IMDB</th>\n",
       "    </tr>\n",
       "  </thead>\n",
       "  <tbody>\n",
       "    <tr>\n",
       "      <th>0</th>\n",
       "      <td>SRK</td>\n",
       "      <td>Pathan</td>\n",
       "      <td>2023</td>\n",
       "      <td>Action</td>\n",
       "      <td>1050</td>\n",
       "      <td>7.2</td>\n",
       "    </tr>\n",
       "    <tr>\n",
       "      <th>7</th>\n",
       "      <td>Hritik</td>\n",
       "      <td>WAR</td>\n",
       "      <td>2019</td>\n",
       "      <td>Action</td>\n",
       "      <td>475</td>\n",
       "      <td>6.5</td>\n",
       "    </tr>\n",
       "    <tr>\n",
       "      <th>8</th>\n",
       "      <td>Askhay</td>\n",
       "      <td>Good</td>\n",
       "      <td>2019</td>\n",
       "      <td>Comedy</td>\n",
       "      <td>318</td>\n",
       "      <td>7.0</td>\n",
       "    </tr>\n",
       "    <tr>\n",
       "      <th>11</th>\n",
       "      <td>Vicky</td>\n",
       "      <td>URI</td>\n",
       "      <td>2019</td>\n",
       "      <td>Action</td>\n",
       "      <td>342</td>\n",
       "      <td>8.2</td>\n",
       "    </tr>\n",
       "  </tbody>\n",
       "</table>\n",
       "</div>"
      ],
      "text/plain": [
       "    ACTORS   FILMS  YEAR   GENRE  BOX OFFICE  IMDB\n",
       "0      SRK  Pathan  2023  Action        1050   7.2\n",
       "7   Hritik     WAR  2019  Action         475   6.5\n",
       "8   Askhay    Good  2019  Comedy         318   7.0\n",
       "11   Vicky     URI  2019  Action         342   8.2"
      ]
     },
     "execution_count": 70,
     "metadata": {},
     "output_type": "execute_result"
    }
   ],
   "source": [
    "df[(df['IMDB']>6)& (df['YEAR']>2018)]"
   ]
  },
  {
   "cell_type": "code",
   "execution_count": 74,
   "id": "f2a3e192-3ad9-4b49-8ce5-561c2a2344a2",
   "metadata": {},
   "outputs": [
    {
     "data": {
      "text/html": [
       "<div>\n",
       "<style scoped>\n",
       "    .dataframe tbody tr th:only-of-type {\n",
       "        vertical-align: middle;\n",
       "    }\n",
       "\n",
       "    .dataframe tbody tr th {\n",
       "        vertical-align: top;\n",
       "    }\n",
       "\n",
       "    .dataframe thead th {\n",
       "        text-align: right;\n",
       "    }\n",
       "</style>\n",
       "<table border=\"1\" class=\"dataframe\">\n",
       "  <thead>\n",
       "    <tr style=\"text-align: right;\">\n",
       "      <th></th>\n",
       "      <th>ACTORS</th>\n",
       "      <th>FILMS</th>\n",
       "      <th>YEAR</th>\n",
       "      <th>GENRE</th>\n",
       "      <th>BOX OFFICE</th>\n",
       "      <th>IMDB</th>\n",
       "    </tr>\n",
       "  </thead>\n",
       "  <tbody>\n",
       "    <tr>\n",
       "      <th>0</th>\n",
       "      <td>SRK</td>\n",
       "      <td>Pathan</td>\n",
       "      <td>2023</td>\n",
       "      <td>Action</td>\n",
       "      <td>1050</td>\n",
       "      <td>7.2</td>\n",
       "    </tr>\n",
       "    <tr>\n",
       "      <th>11</th>\n",
       "      <td>Vicky</td>\n",
       "      <td>URI</td>\n",
       "      <td>2019</td>\n",
       "      <td>Action</td>\n",
       "      <td>342</td>\n",
       "      <td>8.2</td>\n",
       "    </tr>\n",
       "  </tbody>\n",
       "</table>\n",
       "</div>"
      ],
      "text/plain": [
       "   ACTORS   FILMS  YEAR   GENRE  BOX OFFICE  IMDB\n",
       "0     SRK  Pathan  2023  Action        1050   7.2\n",
       "11  Vicky     URI  2019  Action         342   8.2"
      ]
     },
     "execution_count": 74,
     "metadata": {},
     "output_type": "execute_result"
    }
   ],
   "source": [
    "df.query(\"YEAR>2018 and IMDB>7\")"
   ]
  },
  {
   "cell_type": "code",
   "execution_count": null,
   "id": "fd7e1b7c-e197-4e77-8e8d-54661cf5dd41",
   "metadata": {},
   "outputs": [],
   "source": []
  }
 ],
 "metadata": {
  "kernelspec": {
   "display_name": "Python 3 (ipykernel)",
   "language": "python",
   "name": "python3"
  },
  "language_info": {
   "codemirror_mode": {
    "name": "ipython",
    "version": 3
   },
   "file_extension": ".py",
   "mimetype": "text/x-python",
   "name": "python",
   "nbconvert_exporter": "python",
   "pygments_lexer": "ipython3",
   "version": "3.12.7"
  }
 },
 "nbformat": 4,
 "nbformat_minor": 5
}
