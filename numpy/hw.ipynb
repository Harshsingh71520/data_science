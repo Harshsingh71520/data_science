{
 "cells": [
  {
   "cell_type": "code",
   "execution_count": 2,
   "id": "c9bdbf9d-c014-4c58-92f4-7f9f0a658934",
   "metadata": {},
   "outputs": [],
   "source": [
    "import numpy as np\n",
    "myarr= np.array([[1,2,3],[4,5,6],[7,8,9]])"
   ]
  },
  {
   "cell_type": "code",
   "execution_count": 7,
   "id": "beed22df-8d01-4431-97c5-83a5b8246306",
   "metadata": {},
   "outputs": [
    {
     "name": "stdout",
     "output_type": "stream",
     "text": [
      "[[1 2 3]\n",
      " [4 5 6]\n",
      " [7 8 9]]\n"
     ]
    },
    {
     "data": {
      "text/plain": [
       "(3, 3)"
      ]
     },
     "execution_count": 7,
     "metadata": {},
     "output_type": "execute_result"
    }
   ],
   "source": [
    "print(myarr)\n",
    "myarr.shape"
   ]
  },
  {
   "cell_type": "code",
   "execution_count": 16,
   "id": "f32bfa80-a4b6-4d2e-83bf-edde19713d5c",
   "metadata": {},
   "outputs": [
    {
     "data": {
      "text/plain": [
       "array([[1.1, 2.2, 3.3],\n",
       "       [4.4, 5.5, 6.6],\n",
       "       [7.7, 8.8, 9.9]])"
      ]
     },
     "execution_count": 16,
     "metadata": {},
     "output_type": "execute_result"
    }
   ],
   "source": [
    "arr=np.array([[1.1,2.2,3.3],[4.4,5.5,6.6],[7.7,8.8,9.9]])\n",
    "arr"
   ]
  },
  {
   "cell_type": "code",
   "execution_count": 15,
   "id": "0ada6e5c-8e28-4991-9bec-94de399b4ba2",
   "metadata": {},
   "outputs": [
    {
     "name": "stdout",
     "output_type": "stream",
     "text": [
      "[[1 2 3]\n",
      " [4 5 6]\n",
      " [7 8 9]]\n"
     ]
    }
   ],
   "source": [
    "print(arr.astype(int))"
   ]
  },
  {
   "cell_type": "code",
   "execution_count": 19,
   "id": "e06ccdc7-a998-4975-b89f-0b8dede3e3ef",
   "metadata": {},
   "outputs": [
    {
     "data": {
      "text/plain": [
       "array([[[4.4, 5.5, 6.6],\n",
       "        [7.7, 8.8, 9.9]]])"
      ]
     },
     "execution_count": 19,
     "metadata": {},
     "output_type": "execute_result"
    }
   ],
   "source": [
    "arr[[[1,2]]]"
   ]
  },
  {
   "cell_type": "code",
   "execution_count": 20,
   "id": "ec0721b8-1016-4898-9e93-3ee981f667d6",
   "metadata": {},
   "outputs": [
    {
     "data": {
      "text/plain": [
       "array([1, 2, 3, 4, 5, 6, 7, 8, 9])"
      ]
     },
     "execution_count": 20,
     "metadata": {},
     "output_type": "execute_result"
    }
   ],
   "source": [
    "myarr= np.array([1,2,3,4,5,6,7,8,9])\n",
    "myarr"
   ]
  },
  {
   "cell_type": "code",
   "execution_count": 27,
   "id": "8c23659d-aca4-434e-91c1-41f70b98e3f2",
   "metadata": {},
   "outputs": [
    {
     "name": "stdout",
     "output_type": "stream",
     "text": [
      "[2 4 6 8]\n",
      "[2 4 6 8]\n"
     ]
    }
   ],
   "source": [
    "even= myarr%2==0\n",
    "even= myarr[myarr%2==0]\n",
    "print (even)\n",
    "print(even.astype(int))\n"
   ]
  },
  {
   "cell_type": "code",
   "execution_count": 28,
   "id": "2d65f464-379d-47c0-a002-605c1aa98f1f",
   "metadata": {},
   "outputs": [],
   "source": [
    "myarr= np.array([1,2,3,4,5,6,7,8,9])"
   ]
  },
  {
   "cell_type": "code",
   "execution_count": 29,
   "id": "064743c8-53ec-4dee-b46c-cf673645b03f",
   "metadata": {},
   "outputs": [
    {
     "data": {
      "text/plain": [
       "array([[1, 2, 3],\n",
       "       [4, 5, 6],\n",
       "       [7, 8, 9]])"
      ]
     },
     "execution_count": 29,
     "metadata": {},
     "output_type": "execute_result"
    }
   ],
   "source": [
    "myarr.reshape(3,3)"
   ]
  },
  {
   "cell_type": "code",
   "execution_count": 32,
   "id": "a2efcf6f-d803-4fdf-a270-84255631c2dd",
   "metadata": {},
   "outputs": [
    {
     "name": "stdout",
     "output_type": "stream",
     "text": [
      "[73 86 58 89]\n"
     ]
    }
   ],
   "source": [
    "myarr= np.array([1,26,73,44,25,86,17,58,89])\n",
    "greater_50= myarr[myarr>50]\n",
    "print(greater_50)"
   ]
  },
  {
   "cell_type": "code",
   "execution_count": 33,
   "id": "b3e197d3-054f-4b93-87da-6fbf67c4c79f",
   "metadata": {},
   "outputs": [],
   "source": [
    "myarr= np.array([[1,26,73],[44,25,86],[17,58,89]])"
   ]
  },
  {
   "cell_type": "code",
   "execution_count": 34,
   "id": "ded70b9a-ed56-47bb-98e6-5a9139203328",
   "metadata": {},
   "outputs": [
    {
     "name": "stdout",
     "output_type": "stream",
     "text": [
      "[73 86 58 89]\n"
     ]
    }
   ],
   "source": [
    "greater_50= myarr[myarr>50]\n",
    "print(greater_50)"
   ]
  },
  {
   "cell_type": "code",
   "execution_count": null,
   "id": "429f4fa0-956a-4e9d-80cd-f293117f80ca",
   "metadata": {},
   "outputs": [],
   "source": []
  }
 ],
 "metadata": {
  "kernelspec": {
   "display_name": "Python 3 (ipykernel)",
   "language": "python",
   "name": "python3"
  },
  "language_info": {
   "codemirror_mode": {
    "name": "ipython",
    "version": 3
   },
   "file_extension": ".py",
   "mimetype": "text/x-python",
   "name": "python",
   "nbconvert_exporter": "python",
   "pygments_lexer": "ipython3",
   "version": "3.12.7"
  }
 },
 "nbformat": 4,
 "nbformat_minor": 5
}
