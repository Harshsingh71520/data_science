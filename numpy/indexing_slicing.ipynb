{
 "cells": [
  {
   "cell_type": "code",
   "execution_count": 12,
   "id": "16804e13-7952-4db0-a3b4-720c632e4ded",
   "metadata": {},
   "outputs": [],
   "source": [
    "import numpy as np\n",
    "myarr=np.array([1,2,3,4,4,5,6,7,7,8,9,0])\n"
   ]
  },
  {
   "cell_type": "code",
   "execution_count": 13,
   "id": "970711ac-27ec-4c3f-a449-53e734f2c4db",
   "metadata": {},
   "outputs": [
    {
     "data": {
      "text/plain": [
       "array([1, 2, 3, 4, 4, 5, 6, 7, 7, 8, 9, 0])"
      ]
     },
     "execution_count": 13,
     "metadata": {},
     "output_type": "execute_result"
    }
   ],
   "source": [
    "myarr"
   ]
  },
  {
   "cell_type": "code",
   "execution_count": 15,
   "id": "86c4dfdc-c109-4421-a4df-348b41e71970",
   "metadata": {},
   "outputs": [
    {
     "data": {
      "text/plain": [
       "array([2, 4, 6])"
      ]
     },
     "execution_count": 15,
     "metadata": {},
     "output_type": "execute_result"
    }
   ],
   "source": [
    "myarr[[1,4,6]]"
   ]
  },
  {
   "cell_type": "code",
   "execution_count": 16,
   "id": "674d2ab9-41ff-4456-a207-ca7ef74a1ec8",
   "metadata": {},
   "outputs": [
    {
     "data": {
      "text/plain": [
       "array([4, 4, 5, 6, 7, 7, 8, 9])"
      ]
     },
     "execution_count": 16,
     "metadata": {},
     "output_type": "execute_result"
    }
   ],
   "source": [
    "myarr[myarr>3]"
   ]
  },
  {
   "cell_type": "code",
   "execution_count": null,
   "id": "6e18a4fc-b3c3-4805-b78f-0f1e3087bfe3",
   "metadata": {},
   "outputs": [],
   "source": []
  }
 ],
 "metadata": {
  "kernelspec": {
   "display_name": "Python 3 (ipykernel)",
   "language": "python",
   "name": "python3"
  },
  "language_info": {
   "codemirror_mode": {
    "name": "ipython",
    "version": 3
   },
   "file_extension": ".py",
   "mimetype": "text/x-python",
   "name": "python",
   "nbconvert_exporter": "python",
   "pygments_lexer": "ipython3",
   "version": "3.12.7"
  }
 },
 "nbformat": 4,
 "nbformat_minor": 5
}
