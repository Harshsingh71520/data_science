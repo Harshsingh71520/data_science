{
 "cells": [
  {
   "cell_type": "code",
   "execution_count": 2,
   "id": "ea9d5d68-625d-4ab6-bf9f-7f7b887e59d2",
   "metadata": {},
   "outputs": [
    {
     "name": "stdout",
     "output_type": "stream",
     "text": [
      "[[2 4 6]\n",
      " [5 7 9]]\n"
     ]
    }
   ],
   "source": [
    "import numpy as np\n",
    "\n",
    "arr1=np.array([[1,2,3],[4,5,6]])\n",
    "arr2 = np.array([1,2,3])\n",
    "result = arr1+arr2\n",
    "print(result)"
   ]
  },
  {
   "cell_type": "code",
   "execution_count": 9,
   "id": "0879681b-6c25-43d5-9108-4c2f3f2870b8",
   "metadata": {},
   "outputs": [
    {
     "name": "stdout",
     "output_type": "stream",
     "text": [
      "11\n"
     ]
    }
   ],
   "source": [
    "data= np.array([[1,2,3],[4,5,6],[7,8,9],[10,11,12]])\n",
    "data\n",
    "print(np.argmax(data)) #index of maximum element"
   ]
  },
  {
   "cell_type": "code",
   "execution_count": 5,
   "id": "b48033ee-93f8-41e3-bb13-d84c2f5de7e3",
   "metadata": {},
   "outputs": [
    {
     "data": {
      "text/plain": [
       "array([5.5, 6.5, 7.5])"
      ]
     },
     "execution_count": 5,
     "metadata": {},
     "output_type": "execute_result"
    }
   ],
   "source": [
    "mean= data.mean(axis=0)\n",
    "mean"
   ]
  },
  {
   "cell_type": "code",
   "execution_count": 6,
   "id": "f6b018bd-b521-4972-8077-23bba6957c88",
   "metadata": {},
   "outputs": [
    {
     "data": {
      "text/plain": [
       "array([3.35410197, 3.35410197, 3.35410197])"
      ]
     },
     "execution_count": 6,
     "metadata": {},
     "output_type": "execute_result"
    }
   ],
   "source": [
    "std=data.std(axis=0)\n",
    "std"
   ]
  },
  {
   "cell_type": "code",
   "execution_count": 7,
   "id": "b751811f-1c77-47b0-a8af-d010b75feb50",
   "metadata": {},
   "outputs": [
    {
     "name": "stdout",
     "output_type": "stream",
     "text": [
      "[[-1.34164079 -1.34164079 -1.34164079]\n",
      " [-0.4472136  -0.4472136  -0.4472136 ]\n",
      " [ 0.4472136   0.4472136   0.4472136 ]\n",
      " [ 1.34164079  1.34164079  1.34164079]]\n"
     ]
    }
   ],
   "source": [
    "normalized_data= (data-mean)/std\n",
    "print(normalized_data)"
   ]
  },
  {
   "cell_type": "code",
   "execution_count": null,
   "id": "609d827b-0692-4c2f-b52b-f0792818f45b",
   "metadata": {},
   "outputs": [],
   "source": []
  }
 ],
 "metadata": {
  "kernelspec": {
   "display_name": "Python 3 (ipykernel)",
   "language": "python",
   "name": "python3"
  },
  "language_info": {
   "codemirror_mode": {
    "name": "ipython",
    "version": 3
   },
   "file_extension": ".py",
   "mimetype": "text/x-python",
   "name": "python",
   "nbconvert_exporter": "python",
   "pygments_lexer": "ipython3",
   "version": "3.12.7"
  }
 },
 "nbformat": 4,
 "nbformat_minor": 5
}
