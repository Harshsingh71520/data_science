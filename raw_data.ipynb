{
 "cells": [
  {
   "cell_type": "code",
   "execution_count": 1,
   "id": "c00b7715-18bb-4201-868c-580cf49cbddc",
   "metadata": {},
   "outputs": [
    {
     "data": {
      "text/plain": [
       "dict"
      ]
     },
     "execution_count": 1,
     "metadata": {},
     "output_type": "execute_result"
    }
   ],
   "source": [
    "import json\n",
    "data= {\n",
    "    \"users\":[\n",
    "    ({\"id\":1, \"name\":\"Amit\",\"friends\":[2,3],\"liked_pages\":[101]}),\n",
    "    ({\"id\":2, \"name\":\"Priya\",\"friends\":[1,4],\"liked_pages\":[102]}),\n",
    "    ({\"id\":3, \"name\":\"Rahul\",\"friends\":[1],\"liked_pages\":[101,103]}),\n",
    "    ({\"id\":4, \"name\":\"Sara\",\"friends\":[2],\"liked_pages\":[104]})\n",
    "    ],\n",
    "    \"pages\":[\n",
    "        ({\"id\":101,\"name\":\"Python Developer\"}),\n",
    "        ({\"id\":102,\"name\":\"Data Science Enthusiasts\"}),\n",
    "        ({\"id\":103,\"name\":\"AI & ML Enthusiasts\"}),\n",
    "        ({\"id\":104,\"name\":\"Web Dev Hub\"})\n",
    "    ]\n",
    "}\n",
    "# formatted_json=json.dumps(data,indent =0)\n",
    "# print(formatted_json)\n",
    "file= open(\"data.json\",\"w\")\n",
    "json.dump(data,file)\n",
    "file.close()\n",
    "type(data)\n"
   ]
  },
  {
   "cell_type": "code",
   "execution_count": null,
   "id": "3ce8d300-7aba-4eee-89eb-d10e48f11b48",
   "metadata": {},
   "outputs": [],
   "source": []
  },
  {
   "cell_type": "code",
   "execution_count": null,
   "id": "fdbd3943-4105-477e-89c5-e36b3f7b6662",
   "metadata": {},
   "outputs": [],
   "source": []
  },
  {
   "cell_type": "code",
   "execution_count": null,
   "id": "e97eff05-c0ce-4a30-8d8f-b966a9284307",
   "metadata": {},
   "outputs": [],
   "source": []
  },
  {
   "cell_type": "code",
   "execution_count": null,
   "id": "91a4cbe8-98bf-4f02-91e7-d94a23909147",
   "metadata": {},
   "outputs": [],
   "source": []
  }
 ],
 "metadata": {
  "kernelspec": {
   "display_name": "Python 3 (ipykernel)",
   "language": "python",
   "name": "python3"
  },
  "language_info": {
   "codemirror_mode": {
    "name": "ipython",
    "version": 3
   },
   "file_extension": ".py",
   "mimetype": "text/x-python",
   "name": "python",
   "nbconvert_exporter": "python",
   "pygments_lexer": "ipython3",
   "version": "3.12.7"
  }
 },
 "nbformat": 4,
 "nbformat_minor": 5
}
